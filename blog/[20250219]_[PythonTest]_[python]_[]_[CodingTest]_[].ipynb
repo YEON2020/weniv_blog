{
  "cells": [
    {
      "cell_type": "code",
      "execution_count": 2,
      "metadata": {
        "colab": {
          "base_uri": "https://localhost:8080/"
        },
        "id": "uNKs5i-30oq3",
        "outputId": "d5575bc5-ee31-4e90-ae62-48e39fccb91c"
      },
      "outputs": [
        {
          "name": "stdout",
          "output_type": "stream",
          "text": [
            "Hello World\n"
          ]
        }
      ],
      "source": [
        "print(\"Hello World\")"
      ]
    },
    {
      "cell_type": "code",
      "execution_count": 3,
      "metadata": {
        "colab": {
          "base_uri": "https://localhost:8080/"
        },
        "id": "mbeG9v731WpY",
        "outputId": "b2ac0c9b-2ee4-47d4-b74a-5b6b3be8bc91"
      },
      "outputs": [
        {
          "name": "stdout",
          "output_type": "stream",
          "text": [
            "0\n",
            "1\n",
            "2\n",
            "3\n",
            "4\n",
            "5\n",
            "6\n",
            "7\n",
            "8\n",
            "9\n"
          ]
        }
      ],
      "source": [
        "for i in range(10):\n",
        "    print(i)"
      ]
    },
    {
      "cell_type": "markdown",
      "metadata": {
        "id": "AdNpxpew1dtc"
      },
      "source": [
        "# Hello World\n",
        "## Hello World\n",
        "* Hello World\n",
        "* Hello World\n",
        "* Hello World"
      ]
    },
    {
      "cell_type": "code",
      "execution_count": null,
      "metadata": {
        "colab": {
          "base_uri": "https://localhost:8080/"
        },
        "id": "CZMQne4I4bx0",
        "outputId": "b858e9ce-d1ae-4947-aa9a-9d89ef6c19e8"
      },
      "outputs": [
        {
          "name": "stdout",
          "output_type": "stream",
          "text": [
            "Python 3.11.11\n"
          ]
        }
      ],
      "source": [
        "!python --version"
      ]
    },
    {
      "cell_type": "code",
      "execution_count": null,
      "metadata": {
        "colab": {
          "base_uri": "https://localhost:8080/"
        },
        "id": "uB1Aj1lD4h-n",
        "outputId": "de6f9c38-c10e-4b5f-cf68-85d883ef6aff"
      },
      "outputs": [
        {
          "name": "stdout",
          "output_type": "stream",
          "text": [
            "sample_data\n"
          ]
        }
      ],
      "source": [
        "!ls"
      ]
    },
    {
      "cell_type": "code",
      "execution_count": null,
      "metadata": {
        "colab": {
          "base_uri": "https://localhost:8080/"
        },
        "id": "nC6X_eAL4lhK",
        "outputId": "6a5068d0-91b9-4362-9c9a-5a8ebc798f9e"
      },
      "outputs": [
        {
          "name": "stdout",
          "output_type": "stream",
          "text": [
            "<class 'list'>\n",
            "<class 'list'>\n"
          ]
        }
      ],
      "source": [
        "a=[]\n",
        "b=list()\n",
        "c = [70, 75, 80, 85]\n",
        "d= [1000, 10000.1, 'Ace', 'Base', 'Captine']\n",
        "e = [1000,10000,['Ace', 'Base', 'Captine']]\n",
        "f = [21.42, 'footbar', 3, 4, False, 3.14159]\n",
        "print(type(a))\n",
        "print(type(b))"
      ]
    },
    {
      "cell_type": "code",
      "execution_count": null,
      "metadata": {
        "colab": {
          "base_uri": "https://localhost:8080/"
        },
        "id": "ZDdBGQa-BRlv",
        "outputId": "fa8d8c65-63bc-42ac-a4cb-775879aff307"
      },
      "outputs": [
        {
          "name": "stdout",
          "output_type": "stream",
          "text": [
            ">>>>>\n",
            "d -  <class 'list'> [1000, 10000.1, 'Ace', 'Base', 'Captine']\n",
            "d -  10000.1\n",
            "d -  21000.2\n",
            "d -  Captine\n",
            "e -  Base\n"
          ]
        }
      ],
      "source": [
        "print('>>>>>')\n",
        "print('d - ', type(d), d)\n",
        "print('d - ', d[1])\n",
        "print('d - ', d[0] + d[1] + d[1])\n",
        "print('d - ', d[-1])\n",
        "print('e - ', e[-1][1])\n"
      ]
    },
    {
      "cell_type": "code",
      "execution_count": null,
      "metadata": {
        "colab": {
          "base_uri": "https://localhost:8080/"
        },
        "id": "dXHEHIUGDJM1",
        "outputId": "dab914c1-5f51-4f8b-a7f8-45c1d8363cca"
      },
      "outputs": [
        {
          "name": "stdout",
          "output_type": "stream",
          "text": [
            ">>>>>\n",
            "d -  [1000, 10000.1, 'Ace']\n",
            "d -  ['Ace', 'Base', 'Captine']\n",
            "e -  <class 'list'>\n"
          ]
        }
      ],
      "source": [
        "print('>>>>>')\n",
        "print('d - ', d[:3])\n",
        "print('d - ', d[2:])\n",
        "print('e - ', type(e[-1][1:3]))"
      ]
    },
    {
      "cell_type": "code",
      "execution_count": null,
      "metadata": {
        "colab": {
          "base_uri": "https://localhost:8080/"
        },
        "id": "R-OmRsOUGISR",
        "outputId": "c9f34bb1-9103-4c2b-cf02-30d70a939c0c"
      },
      "outputs": [
        {
          "name": "stdout",
          "output_type": "stream",
          "text": [
            ">>>>>>>>>\n",
            "c + d [70, 75, 80, 85, 1000, 10000.1, 'Ace', 'Base', 'Captine']\n",
            "c * 3 [70, 75, 80, 85, 70, 75, 80, 85, 70, 75, 80, 85]\n",
            "c * 3 12\n",
            "'Test' + c[0] Test70\n"
          ]
        }
      ],
      "source": [
        "print('>>>>>>>>>')\n",
        "print('c + d', c+d)\n",
        "print('c * 3', c*3)\n",
        "print('c * 3', len(c*3))\n",
        "print(\"'Test' + c[0]\", 'Test' + str(c[0]))"
      ]
    }
  ],
  "metadata": {
    "colab": {
      "provenance": []
    },
    "kernelspec": {
      "display_name": "Python 3",
      "name": "python3"
    },
    "language_info": {
      "name": "python"
    }
  },
  "nbformat": 4,
  "nbformat_minor": 0
}
